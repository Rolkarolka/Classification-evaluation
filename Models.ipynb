{
  "cells": [
    {
      "cell_type": "code",
      "execution_count": 27,
      "metadata": {
        "id": "3h6zBB6DKdIw"
      },
      "outputs": [],
      "source": [
        "from sklearn.datasets import load_breast_cancer\n",
        "from sklearn.model_selection import train_test_split\n",
        "import pickle"
      ]
    },
    {
      "cell_type": "code",
      "execution_count": 28,
      "metadata": {},
      "outputs": [],
      "source": [
        "MODELS_PATH = \"./saved_models/\""
      ]
    },
    {
      "cell_type": "code",
      "execution_count": 29,
      "metadata": {
        "colab": {
          "base_uri": "https://localhost:8080/",
          "height": 503
        },
        "id": "k8UDRPOjKkh3",
        "outputId": "eb29e9d9-2204-49fb-808f-21278cccdca4"
      },
      "outputs": [
        {
          "data": {
            "text/html": [
              "<div>\n",
              "<style scoped>\n",
              "    .dataframe tbody tr th:only-of-type {\n",
              "        vertical-align: middle;\n",
              "    }\n",
              "\n",
              "    .dataframe tbody tr th {\n",
              "        vertical-align: top;\n",
              "    }\n",
              "\n",
              "    .dataframe thead th {\n",
              "        text-align: right;\n",
              "    }\n",
              "</style>\n",
              "<table border=\"1\" class=\"dataframe\">\n",
              "  <thead>\n",
              "    <tr style=\"text-align: right;\">\n",
              "      <th></th>\n",
              "      <th>mean radius</th>\n",
              "      <th>mean perimeter</th>\n",
              "      <th>mean area</th>\n",
              "      <th>mean smoothness</th>\n",
              "      <th>mean compactness</th>\n",
              "      <th>mean concavity</th>\n",
              "      <th>mean concave points</th>\n",
              "      <th>radius error</th>\n",
              "      <th>perimeter error</th>\n",
              "      <th>area error</th>\n",
              "      <th>...</th>\n",
              "      <th>concavity error</th>\n",
              "      <th>concave points error</th>\n",
              "      <th>worst radius</th>\n",
              "      <th>worst perimeter</th>\n",
              "      <th>worst area</th>\n",
              "      <th>worst smoothness</th>\n",
              "      <th>worst compactness</th>\n",
              "      <th>worst concavity</th>\n",
              "      <th>worst concave points</th>\n",
              "      <th>target</th>\n",
              "    </tr>\n",
              "  </thead>\n",
              "  <tbody>\n",
              "    <tr>\n",
              "      <th>0</th>\n",
              "      <td>17.99</td>\n",
              "      <td>122.80</td>\n",
              "      <td>1001.0</td>\n",
              "      <td>0.11840</td>\n",
              "      <td>0.27760</td>\n",
              "      <td>0.30010</td>\n",
              "      <td>0.14710</td>\n",
              "      <td>1.0950</td>\n",
              "      <td>8.589</td>\n",
              "      <td>153.40</td>\n",
              "      <td>...</td>\n",
              "      <td>0.05373</td>\n",
              "      <td>0.01587</td>\n",
              "      <td>25.380</td>\n",
              "      <td>184.60</td>\n",
              "      <td>2019.0</td>\n",
              "      <td>0.16220</td>\n",
              "      <td>0.66560</td>\n",
              "      <td>0.7119</td>\n",
              "      <td>0.2654</td>\n",
              "      <td>0</td>\n",
              "    </tr>\n",
              "    <tr>\n",
              "      <th>1</th>\n",
              "      <td>20.57</td>\n",
              "      <td>132.90</td>\n",
              "      <td>1326.0</td>\n",
              "      <td>0.08474</td>\n",
              "      <td>0.07864</td>\n",
              "      <td>0.08690</td>\n",
              "      <td>0.07017</td>\n",
              "      <td>0.5435</td>\n",
              "      <td>3.398</td>\n",
              "      <td>74.08</td>\n",
              "      <td>...</td>\n",
              "      <td>0.01860</td>\n",
              "      <td>0.01340</td>\n",
              "      <td>24.990</td>\n",
              "      <td>158.80</td>\n",
              "      <td>1956.0</td>\n",
              "      <td>0.12380</td>\n",
              "      <td>0.18660</td>\n",
              "      <td>0.2416</td>\n",
              "      <td>0.1860</td>\n",
              "      <td>0</td>\n",
              "    </tr>\n",
              "    <tr>\n",
              "      <th>2</th>\n",
              "      <td>19.69</td>\n",
              "      <td>130.00</td>\n",
              "      <td>1203.0</td>\n",
              "      <td>0.10960</td>\n",
              "      <td>0.15990</td>\n",
              "      <td>0.19740</td>\n",
              "      <td>0.12790</td>\n",
              "      <td>0.7456</td>\n",
              "      <td>4.585</td>\n",
              "      <td>94.03</td>\n",
              "      <td>...</td>\n",
              "      <td>0.03832</td>\n",
              "      <td>0.02058</td>\n",
              "      <td>23.570</td>\n",
              "      <td>152.50</td>\n",
              "      <td>1709.0</td>\n",
              "      <td>0.14440</td>\n",
              "      <td>0.42450</td>\n",
              "      <td>0.4504</td>\n",
              "      <td>0.2430</td>\n",
              "      <td>0</td>\n",
              "    </tr>\n",
              "    <tr>\n",
              "      <th>3</th>\n",
              "      <td>11.42</td>\n",
              "      <td>77.58</td>\n",
              "      <td>386.1</td>\n",
              "      <td>0.14250</td>\n",
              "      <td>0.28390</td>\n",
              "      <td>0.24140</td>\n",
              "      <td>0.10520</td>\n",
              "      <td>0.4956</td>\n",
              "      <td>3.445</td>\n",
              "      <td>27.23</td>\n",
              "      <td>...</td>\n",
              "      <td>0.05661</td>\n",
              "      <td>0.01867</td>\n",
              "      <td>14.910</td>\n",
              "      <td>98.87</td>\n",
              "      <td>567.7</td>\n",
              "      <td>0.20980</td>\n",
              "      <td>0.86630</td>\n",
              "      <td>0.6869</td>\n",
              "      <td>0.2575</td>\n",
              "      <td>0</td>\n",
              "    </tr>\n",
              "    <tr>\n",
              "      <th>4</th>\n",
              "      <td>20.29</td>\n",
              "      <td>135.10</td>\n",
              "      <td>1297.0</td>\n",
              "      <td>0.10030</td>\n",
              "      <td>0.13280</td>\n",
              "      <td>0.19800</td>\n",
              "      <td>0.10430</td>\n",
              "      <td>0.7572</td>\n",
              "      <td>5.438</td>\n",
              "      <td>94.44</td>\n",
              "      <td>...</td>\n",
              "      <td>0.05688</td>\n",
              "      <td>0.01885</td>\n",
              "      <td>22.540</td>\n",
              "      <td>152.20</td>\n",
              "      <td>1575.0</td>\n",
              "      <td>0.13740</td>\n",
              "      <td>0.20500</td>\n",
              "      <td>0.4000</td>\n",
              "      <td>0.1625</td>\n",
              "      <td>0</td>\n",
              "    </tr>\n",
              "    <tr>\n",
              "      <th>...</th>\n",
              "      <td>...</td>\n",
              "      <td>...</td>\n",
              "      <td>...</td>\n",
              "      <td>...</td>\n",
              "      <td>...</td>\n",
              "      <td>...</td>\n",
              "      <td>...</td>\n",
              "      <td>...</td>\n",
              "      <td>...</td>\n",
              "      <td>...</td>\n",
              "      <td>...</td>\n",
              "      <td>...</td>\n",
              "      <td>...</td>\n",
              "      <td>...</td>\n",
              "      <td>...</td>\n",
              "      <td>...</td>\n",
              "      <td>...</td>\n",
              "      <td>...</td>\n",
              "      <td>...</td>\n",
              "      <td>...</td>\n",
              "      <td>...</td>\n",
              "    </tr>\n",
              "    <tr>\n",
              "      <th>564</th>\n",
              "      <td>21.56</td>\n",
              "      <td>142.00</td>\n",
              "      <td>1479.0</td>\n",
              "      <td>0.11100</td>\n",
              "      <td>0.11590</td>\n",
              "      <td>0.24390</td>\n",
              "      <td>0.13890</td>\n",
              "      <td>1.1760</td>\n",
              "      <td>7.673</td>\n",
              "      <td>158.70</td>\n",
              "      <td>...</td>\n",
              "      <td>0.05198</td>\n",
              "      <td>0.02454</td>\n",
              "      <td>25.450</td>\n",
              "      <td>166.10</td>\n",
              "      <td>2027.0</td>\n",
              "      <td>0.14100</td>\n",
              "      <td>0.21130</td>\n",
              "      <td>0.4107</td>\n",
              "      <td>0.2216</td>\n",
              "      <td>0</td>\n",
              "    </tr>\n",
              "    <tr>\n",
              "      <th>565</th>\n",
              "      <td>20.13</td>\n",
              "      <td>131.20</td>\n",
              "      <td>1261.0</td>\n",
              "      <td>0.09780</td>\n",
              "      <td>0.10340</td>\n",
              "      <td>0.14400</td>\n",
              "      <td>0.09791</td>\n",
              "      <td>0.7655</td>\n",
              "      <td>5.203</td>\n",
              "      <td>99.04</td>\n",
              "      <td>...</td>\n",
              "      <td>0.03950</td>\n",
              "      <td>0.01678</td>\n",
              "      <td>23.690</td>\n",
              "      <td>155.00</td>\n",
              "      <td>1731.0</td>\n",
              "      <td>0.11660</td>\n",
              "      <td>0.19220</td>\n",
              "      <td>0.3215</td>\n",
              "      <td>0.1628</td>\n",
              "      <td>0</td>\n",
              "    </tr>\n",
              "    <tr>\n",
              "      <th>566</th>\n",
              "      <td>16.60</td>\n",
              "      <td>108.30</td>\n",
              "      <td>858.1</td>\n",
              "      <td>0.08455</td>\n",
              "      <td>0.10230</td>\n",
              "      <td>0.09251</td>\n",
              "      <td>0.05302</td>\n",
              "      <td>0.4564</td>\n",
              "      <td>3.425</td>\n",
              "      <td>48.55</td>\n",
              "      <td>...</td>\n",
              "      <td>0.04730</td>\n",
              "      <td>0.01557</td>\n",
              "      <td>18.980</td>\n",
              "      <td>126.70</td>\n",
              "      <td>1124.0</td>\n",
              "      <td>0.11390</td>\n",
              "      <td>0.30940</td>\n",
              "      <td>0.3403</td>\n",
              "      <td>0.1418</td>\n",
              "      <td>0</td>\n",
              "    </tr>\n",
              "    <tr>\n",
              "      <th>567</th>\n",
              "      <td>20.60</td>\n",
              "      <td>140.10</td>\n",
              "      <td>1265.0</td>\n",
              "      <td>0.11780</td>\n",
              "      <td>0.27700</td>\n",
              "      <td>0.35140</td>\n",
              "      <td>0.15200</td>\n",
              "      <td>0.7260</td>\n",
              "      <td>5.772</td>\n",
              "      <td>86.22</td>\n",
              "      <td>...</td>\n",
              "      <td>0.07117</td>\n",
              "      <td>0.01664</td>\n",
              "      <td>25.740</td>\n",
              "      <td>184.60</td>\n",
              "      <td>1821.0</td>\n",
              "      <td>0.16500</td>\n",
              "      <td>0.86810</td>\n",
              "      <td>0.9387</td>\n",
              "      <td>0.2650</td>\n",
              "      <td>0</td>\n",
              "    </tr>\n",
              "    <tr>\n",
              "      <th>568</th>\n",
              "      <td>7.76</td>\n",
              "      <td>47.92</td>\n",
              "      <td>181.0</td>\n",
              "      <td>0.05263</td>\n",
              "      <td>0.04362</td>\n",
              "      <td>0.00000</td>\n",
              "      <td>0.00000</td>\n",
              "      <td>0.3857</td>\n",
              "      <td>2.548</td>\n",
              "      <td>19.15</td>\n",
              "      <td>...</td>\n",
              "      <td>0.00000</td>\n",
              "      <td>0.00000</td>\n",
              "      <td>9.456</td>\n",
              "      <td>59.16</td>\n",
              "      <td>268.6</td>\n",
              "      <td>0.08996</td>\n",
              "      <td>0.06444</td>\n",
              "      <td>0.0000</td>\n",
              "      <td>0.0000</td>\n",
              "      <td>1</td>\n",
              "    </tr>\n",
              "  </tbody>\n",
              "</table>\n",
              "<p>569 rows × 22 columns</p>\n",
              "</div>"
            ],
            "text/plain": [
              "     mean radius  mean perimeter  mean area  mean smoothness  \\\n",
              "0          17.99          122.80     1001.0          0.11840   \n",
              "1          20.57          132.90     1326.0          0.08474   \n",
              "2          19.69          130.00     1203.0          0.10960   \n",
              "3          11.42           77.58      386.1          0.14250   \n",
              "4          20.29          135.10     1297.0          0.10030   \n",
              "..           ...             ...        ...              ...   \n",
              "564        21.56          142.00     1479.0          0.11100   \n",
              "565        20.13          131.20     1261.0          0.09780   \n",
              "566        16.60          108.30      858.1          0.08455   \n",
              "567        20.60          140.10     1265.0          0.11780   \n",
              "568         7.76           47.92      181.0          0.05263   \n",
              "\n",
              "     mean compactness  mean concavity  mean concave points  radius error  \\\n",
              "0             0.27760         0.30010              0.14710        1.0950   \n",
              "1             0.07864         0.08690              0.07017        0.5435   \n",
              "2             0.15990         0.19740              0.12790        0.7456   \n",
              "3             0.28390         0.24140              0.10520        0.4956   \n",
              "4             0.13280         0.19800              0.10430        0.7572   \n",
              "..                ...             ...                  ...           ...   \n",
              "564           0.11590         0.24390              0.13890        1.1760   \n",
              "565           0.10340         0.14400              0.09791        0.7655   \n",
              "566           0.10230         0.09251              0.05302        0.4564   \n",
              "567           0.27700         0.35140              0.15200        0.7260   \n",
              "568           0.04362         0.00000              0.00000        0.3857   \n",
              "\n",
              "     perimeter error  area error  ...  concavity error  concave points error  \\\n",
              "0              8.589      153.40  ...          0.05373               0.01587   \n",
              "1              3.398       74.08  ...          0.01860               0.01340   \n",
              "2              4.585       94.03  ...          0.03832               0.02058   \n",
              "3              3.445       27.23  ...          0.05661               0.01867   \n",
              "4              5.438       94.44  ...          0.05688               0.01885   \n",
              "..               ...         ...  ...              ...                   ...   \n",
              "564            7.673      158.70  ...          0.05198               0.02454   \n",
              "565            5.203       99.04  ...          0.03950               0.01678   \n",
              "566            3.425       48.55  ...          0.04730               0.01557   \n",
              "567            5.772       86.22  ...          0.07117               0.01664   \n",
              "568            2.548       19.15  ...          0.00000               0.00000   \n",
              "\n",
              "     worst radius  worst perimeter  worst area  worst smoothness  \\\n",
              "0          25.380           184.60      2019.0           0.16220   \n",
              "1          24.990           158.80      1956.0           0.12380   \n",
              "2          23.570           152.50      1709.0           0.14440   \n",
              "3          14.910            98.87       567.7           0.20980   \n",
              "4          22.540           152.20      1575.0           0.13740   \n",
              "..            ...              ...         ...               ...   \n",
              "564        25.450           166.10      2027.0           0.14100   \n",
              "565        23.690           155.00      1731.0           0.11660   \n",
              "566        18.980           126.70      1124.0           0.11390   \n",
              "567        25.740           184.60      1821.0           0.16500   \n",
              "568         9.456            59.16       268.6           0.08996   \n",
              "\n",
              "     worst compactness  worst concavity  worst concave points  target  \n",
              "0              0.66560           0.7119                0.2654       0  \n",
              "1              0.18660           0.2416                0.1860       0  \n",
              "2              0.42450           0.4504                0.2430       0  \n",
              "3              0.86630           0.6869                0.2575       0  \n",
              "4              0.20500           0.4000                0.1625       0  \n",
              "..                 ...              ...                   ...     ...  \n",
              "564            0.21130           0.4107                0.2216       0  \n",
              "565            0.19220           0.3215                0.1628       0  \n",
              "566            0.30940           0.3403                0.1418       0  \n",
              "567            0.86810           0.9387                0.2650       0  \n",
              "568            0.06444           0.0000                0.0000       1  \n",
              "\n",
              "[569 rows x 22 columns]"
            ]
          },
          "execution_count": 29,
          "metadata": {},
          "output_type": "execute_result"
        }
      ],
      "source": [
        "features, target = load_breast_cancer(return_X_y=True, as_frame=True)\n",
        "data = features.join(target)\n",
        "data = data.drop(columns=[\"mean texture\", \"texture error\", \"worst texture\", \"mean symmetry\", \"worst symmetry\", \"symmetry error\", \"mean fractal dimension\", \"fractal dimension error\", \"worst fractal dimension\"])\n",
        "data"
      ]
    },
    {
      "cell_type": "code",
      "execution_count": 30,
      "metadata": {
        "id": "RAuHEoSvNhAM"
      },
      "outputs": [],
      "source": [
        "train, test = train_test_split(data, random_state=47)"
      ]
    },
    {
      "cell_type": "code",
      "execution_count": 31,
      "metadata": {
        "id": "BfB1_qDQPPSz"
      },
      "outputs": [],
      "source": [
        "train_features = train.drop(columns=\"target\")\n",
        "train_target = train[\"target\"]"
      ]
    },
    {
      "cell_type": "code",
      "execution_count": 32,
      "metadata": {
        "id": "JKcktFESPb_C"
      },
      "outputs": [],
      "source": [
        "test_features = test.drop(columns=\"target\")\n",
        "test_target = test[\"target\"]"
      ]
    },
    {
      "cell_type": "markdown",
      "metadata": {
        "id": "WILMEO_-QPPs"
      },
      "source": [
        "Perceptron wielowarstwowy"
      ]
    },
    {
      "cell_type": "code",
      "execution_count": 33,
      "metadata": {
        "id": "7pLRcFFtO_Hl"
      },
      "outputs": [],
      "source": [
        "from sklearn.neural_network import MLPClassifier\n",
        "\n",
        "classifier = MLPClassifier(random_state=1, max_iter=300)\n",
        "classifier.fit(train_features, train_target)\n",
        "classifier.predict(test_features)\n",
        "pickle.dump(classifier, open(MODELS_PATH + type(classifier).__name__, 'wb'))"
      ]
    },
    {
      "cell_type": "markdown",
      "metadata": {
        "id": "R9lTExiLQcUv"
      },
      "source": [
        "Klasyfikacja procesem gaussowskim"
      ]
    },
    {
      "cell_type": "code",
      "execution_count": 34,
      "metadata": {
        "id": "9QleuAvqMUB5"
      },
      "outputs": [
        {
          "name": "stderr",
          "output_type": "stream",
          "text": [
            "c:\\Users\\rokar\\AppData\\Local\\Programs\\Python\\Python38\\lib\\site-packages\\sklearn\\gaussian_process\\kernels.py:430: ConvergenceWarning: The optimal value found for dimension 0 of parameter k1__constant_value is close to the specified upper bound 100000.0. Increasing the bound and calling fit again may find a better value.\n",
            "  warnings.warn(\n"
          ]
        }
      ],
      "source": [
        "from sklearn.gaussian_process import GaussianProcessClassifier\n",
        "from sklearn.gaussian_process.kernels import RBF\n",
        "\n",
        "kernel = 1.0 * RBF(1.0)\n",
        "classifier = GaussianProcessClassifier(kernel=kernel, random_state=0)\n",
        "classifier.fit(train_features, train_target)\n",
        "classifier.predict(test_features)\n",
        "pickle.dump(classifier, open(MODELS_PATH + type(classifier).__name__, 'wb'))"
      ]
    },
    {
      "cell_type": "markdown",
      "metadata": {
        "id": "CJHuj3PXQi5v"
      },
      "source": [
        "K najbliższych sąsiadów"
      ]
    },
    {
      "cell_type": "code",
      "execution_count": 35,
      "metadata": {
        "id": "aCEbBhf-QMSs"
      },
      "outputs": [],
      "source": [
        "from sklearn.neighbors import KNeighborsClassifier\n",
        "classifier = KNeighborsClassifier(n_neighbors=3)\n",
        "classifier.fit(train_features, train_target)\n",
        "classifier.predict(test_features)\n",
        "pickle.dump(classifier, open(MODELS_PATH + type(classifier).__name__, 'wb'))"
      ]
    },
    {
      "cell_type": "markdown",
      "metadata": {
        "id": "EUIz6M5uRJdC"
      },
      "source": [
        "Maszyna wektorów nośnych"
      ]
    },
    {
      "cell_type": "code",
      "execution_count": 36,
      "metadata": {
        "id": "ZclfKsvfRImw"
      },
      "outputs": [],
      "source": [
        "from sklearn.svm import SVC\n",
        "classifier = SVC(gamma='auto')\n",
        "classifier.fit(train_features, train_target)\n",
        "classifier.predict(test_features)\n",
        "pickle.dump(classifier, open(MODELS_PATH + type(classifier).__name__, 'wb'))"
      ]
    },
    {
      "cell_type": "markdown",
      "metadata": {
        "id": "LmhID2iPR8EP"
      },
      "source": [
        "Drzewo decyzyjne"
      ]
    },
    {
      "cell_type": "code",
      "execution_count": 37,
      "metadata": {
        "id": "HJtokjEJR5a_"
      },
      "outputs": [],
      "source": [
        "from sklearn.model_selection import cross_val_score\n",
        "from sklearn.tree import DecisionTreeClassifier\n",
        "classifier = DecisionTreeClassifier(random_state=0)\n",
        "classifier.fit(train_features, train_target)\n",
        "classifier.predict(test_features)\n",
        "pickle.dump(classifier, open(MODELS_PATH + type(classifier).__name__, 'wb'))"
      ]
    },
    {
      "cell_type": "markdown",
      "metadata": {
        "id": "BX8GFgznSu-4"
      },
      "source": [
        "ExtraTree"
      ]
    },
    {
      "cell_type": "code",
      "execution_count": 38,
      "metadata": {
        "id": "dk7RXz9TSvcX"
      },
      "outputs": [],
      "source": [
        "from sklearn.ensemble import ExtraTreesClassifier\n",
        "classifier = ExtraTreesClassifier(n_estimators=100, random_state=0)\n",
        "classifier.fit(train_features, train_target)\n",
        "classifier.predict(test_features)\n",
        "pickle.dump(classifier, open(MODELS_PATH + type(classifier).__name__, 'wb'))"
      ]
    },
    {
      "cell_type": "markdown",
      "metadata": {
        "id": "8MunvV9FSzbf"
      },
      "source": [
        "Las losowy"
      ]
    },
    {
      "cell_type": "code",
      "execution_count": null,
      "metadata": {
        "id": "yVTWxk-mS04t"
      },
      "outputs": [],
      "source": [
        "from sklearn.ensemble import RandomForestClassifier\n",
        "classifier = RandomForestClassifier(max_depth=2, random_state=0)\n",
        "classifier.fit(train_features, train_target)\n",
        "classifier.predict(test_features)\n",
        "pickle.dump(classifier, open(MODELS_PATH + type(classifier).__name__, 'wb'))"
      ]
    },
    {
      "cell_type": "markdown",
      "metadata": {
        "id": "QyE-X2bKS2G3"
      },
      "source": [
        "Klasyfikator AdaBoost"
      ]
    },
    {
      "cell_type": "code",
      "execution_count": null,
      "metadata": {
        "id": "osysU8Y1S4Dk"
      },
      "outputs": [],
      "source": [
        "from sklearn.ensemble import AdaBoostClassifier\n",
        "classifier = AdaBoostClassifier(n_estimators=100, random_state=0)\n",
        "classifier.fit(train_features, train_target)\n",
        "classifier.predict(test_features)\n",
        "pickle.dump(classifier, open(MODELS_PATH + type(classifier).__name__, 'wb'))"
      ]
    },
    {
      "cell_type": "markdown",
      "metadata": {
        "id": "Uwt8xYTgS5No"
      },
      "source": [
        "Naiwny klasyfikator Bayesowski"
      ]
    },
    {
      "cell_type": "code",
      "execution_count": null,
      "metadata": {
        "id": "ddM-MyfxS75C"
      },
      "outputs": [],
      "source": [
        "from sklearn.naive_bayes import GaussianNB\n",
        "classifier = GaussianNB()\n",
        "classifier.fit(train_features, train_target)\n",
        "classifier.predict(test_features)\n",
        "pickle.dump(classifier, open(MODELS_PATH + type(classifier).__name__, 'wb'))"
      ]
    },
    {
      "cell_type": "markdown",
      "metadata": {
        "id": "QFliS6umS8PN"
      },
      "source": [
        "Kwadratowa analiza dyskryminacyjna"
      ]
    },
    {
      "cell_type": "code",
      "execution_count": null,
      "metadata": {
        "id": "jIip6xGBS_LV"
      },
      "outputs": [],
      "source": [
        "from sklearn.discriminant_analysis import QuadraticDiscriminantAnalysis\n",
        "classifier = QuadraticDiscriminantAnalysis()\n",
        "classifier.fit(train_features, train_target)\n",
        "classifier.predict(test_features)\n",
        "pickle.dump(classifier, open(MODELS_PATH + type(classifier).__name__, 'wb'))"
      ]
    },
    {
      "cell_type": "markdown",
      "metadata": {
        "id": "0loh5FfsS_4p"
      },
      "source": [
        "Regresja logistyczna"
      ]
    },
    {
      "cell_type": "code",
      "execution_count": null,
      "metadata": {
        "id": "BBaoaiP3TBve"
      },
      "outputs": [],
      "source": [
        "from sklearn.linear_model import LogisticRegression\n",
        "classifier = LogisticRegression(random_state=0, solver='lbfgs', max_iter=5000)\n",
        "classifier.fit(train_features, train_target)\n",
        "classifier.predict(test_features)\n",
        "pickle.dump(classifier, open(MODELS_PATH + type(classifier).__name__, 'wb'))"
      ]
    }
  ],
  "metadata": {
    "colab": {
      "collapsed_sections": [],
      "name": "Models.ipynb",
      "provenance": []
    },
    "interpreter": {
      "hash": "7018c46de3180093370f3f2bf528b47925a5bbc314e94fdd717414946b32dd96"
    },
    "kernelspec": {
      "display_name": "Python 3.8.8 64-bit",
      "language": "python",
      "name": "python3"
    },
    "language_info": {
      "codemirror_mode": {
        "name": "ipython",
        "version": 3
      },
      "file_extension": ".py",
      "mimetype": "text/x-python",
      "name": "python",
      "nbconvert_exporter": "python",
      "pygments_lexer": "ipython3",
      "version": "3.8.8"
    }
  },
  "nbformat": 4,
  "nbformat_minor": 0
}
