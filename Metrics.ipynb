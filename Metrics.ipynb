{
  "cells": [
    {
      "cell_type": "code",
      "execution_count": 226,
      "metadata": {
        "colab": {
          "base_uri": "https://localhost:8080/"
        },
        "id": "6KGLksNX6bzN",
        "outputId": "3e467adb-181e-4ac8-ec55-2a96769b3e5a"
      },
      "outputs": [
        {
          "name": "stdout",
          "output_type": "stream",
          "text": [
            "Requirement already satisfied: scikit-plot in c:\\users\\rokar\\appdata\\local\\programs\\python\\python38\\lib\\site-packages (0.3.7)\n",
            "Requirement already satisfied: joblib>=0.10 in c:\\users\\rokar\\appdata\\local\\programs\\python\\python38\\lib\\site-packages (from scikit-plot) (1.1.0)\n",
            "Requirement already satisfied: matplotlib>=1.4.0 in c:\\users\\rokar\\appdata\\local\\programs\\python\\python38\\lib\\site-packages (from scikit-plot) (3.4.0)\n",
            "Requirement already satisfied: scipy>=0.9 in c:\\users\\rokar\\appdata\\local\\programs\\python\\python38\\lib\\site-packages (from scikit-plot) (1.7.3)\n",
            "Requirement already satisfied: scikit-learn>=0.18 in c:\\users\\rokar\\appdata\\local\\programs\\python\\python38\\lib\\site-packages (from scikit-plot) (1.0.2)\n",
            "Requirement already satisfied: pyparsing>=2.2.1 in c:\\users\\rokar\\appdata\\local\\programs\\python\\python38\\lib\\site-packages (from matplotlib>=1.4.0->scikit-plot) (3.0.6)\n",
            "Requirement already satisfied: python-dateutil>=2.7 in c:\\users\\rokar\\appdata\\local\\programs\\python\\python38\\lib\\site-packages (from matplotlib>=1.4.0->scikit-plot) (2.8.2)\n",
            "Requirement already satisfied: kiwisolver>=1.0.1 in c:\\users\\rokar\\appdata\\local\\programs\\python\\python38\\lib\\site-packages (from matplotlib>=1.4.0->scikit-plot) (1.3.2)\n",
            "Requirement already satisfied: numpy>=1.16 in c:\\users\\rokar\\appdata\\local\\programs\\python\\python38\\lib\\site-packages (from matplotlib>=1.4.0->scikit-plot) (1.20.0)\n",
            "Requirement already satisfied: pillow>=6.2.0 in c:\\users\\rokar\\appdata\\local\\programs\\python\\python38\\lib\\site-packages (from matplotlib>=1.4.0->scikit-plot) (9.0.0)\n",
            "Requirement already satisfied: cycler>=0.10 in c:\\users\\rokar\\appdata\\local\\programs\\python\\python38\\lib\\site-packages (from matplotlib>=1.4.0->scikit-plot) (0.11.0)Note: you may need to restart the kernel to use updated packages.\n",
            "Requirement already satisfied: threadpoolctl>=2.0.0 in c:\\users\\rokar\\appdata\\local\\programs\\python\\python38\\lib\\site-packages (from scikit-learn>=0.18->scikit-plot) (3.0.0)\n",
            "Requirement already satisfied: six>=1.5 in c:\\users\\rokar\\appdata\\local\\programs\\python\\python38\\lib\\site-packages (from python-dateutil>=2.7->matplotlib>=1.4.0->scikit-plot) (1.16.0)\n",
            "\n"
          ]
        },
        {
          "name": "stderr",
          "output_type": "stream",
          "text": [
            "WARNING: You are using pip version 20.2.3; however, version 22.1 is available.\n",
            "You should consider upgrading via the 'c:\\Users\\rokar\\AppData\\Local\\Programs\\Python\\Python38\\python.exe -m pip install --upgrade pip' command.\n"
          ]
        },
        {
          "name": "stdout",
          "output_type": "stream",
          "text": [
            "Requirement already satisfied: matplotlib==3.4.0 in c:\\users\\rokar\\appdata\\local\\programs\\python\\python38\\lib\\site-packages (3.4.0)\n",
            "Requirement already satisfied: python-dateutil>=2.7 in c:\\users\\rokar\\appdata\\local\\programs\\python\\python38\\lib\\site-packages (from matplotlib==3.4.0) (2.8.2)\n",
            "Requirement already satisfied: kiwisolver>=1.0.1 in c:\\users\\rokar\\appdata\\local\\programs\\python\\python38\\lib\\site-packages (from matplotlib==3.4.0) (1.3.2)\n",
            "Requirement already satisfied: cycler>=0.10 in c:\\users\\rokar\\appdata\\local\\programs\\python\\python38\\lib\\site-packages (from matplotlib==3.4.0) (0.11.0)\n",
            "Requirement already satisfied: pillow>=6.2.0 in c:\\users\\rokar\\appdata\\local\\programs\\python\\python38\\lib\\site-packages (from matplotlib==3.4.0) (9.0.0)\n",
            "Requirement already satisfied: pyparsing>=2.2.1 in c:\\users\\rokar\\appdata\\local\\programs\\python\\python38\\lib\\site-packages (from matplotlib==3.4.0) (3.0.6)\n",
            "Requirement already satisfied: numpy>=1.16 in c:\\users\\rokar\\appdata\\local\\programs\\python\\python38\\lib\\site-packages (from matplotlib==3.4.0) (1.20.0)\n",
            "Requirement already satisfied: six>=1.5 in c:\\users\\rokar\\appdata\\local\\programs\\python\\python38\\lib\\site-packages (from python-dateutil>=2.7->matplotlib==3.4.0) (1.16.0)\n",
            "Note: you may need to restart the kernel to use updated packages.\n"
          ]
        },
        {
          "name": "stderr",
          "output_type": "stream",
          "text": [
            "WARNING: You are using pip version 20.2.3; however, version 22.1 is available.\n",
            "You should consider upgrading via the 'c:\\Users\\rokar\\AppData\\Local\\Programs\\Python\\Python38\\python.exe -m pip install --upgrade pip' command.\n"
          ]
        },
        {
          "name": "stdout",
          "output_type": "stream",
          "text": [
            "Requirement already satisfied: seaborn in c:\\users\\rokar\\appdata\\local\\programs\\python\\python38\\lib\\site-packages (0.11.2)\n",
            "Requirement already satisfied: pandas>=0.23 in c:\\users\\rokar\\appdata\\local\\programs\\python\\python38\\lib\\site-packages (from seaborn) (1.3.5)\n",
            "Requirement already satisfied: numpy>=1.15 in c:\\users\\rokar\\appdata\\local\\programs\\python\\python38\\lib\\site-packages (from seaborn) (1.20.0)\n",
            "Requirement already satisfied: scipy>=1.0 in c:\\users\\rokar\\appdata\\local\\programs\\python\\python38\\lib\\site-packages (from seaborn) (1.7.3)\n",
            "Requirement already satisfied: matplotlib>=2.2 in c:\\users\\rokar\\appdata\\local\\programs\\python\\python38\\lib\\site-packages (from seaborn) (3.4.0)\n",
            "Requirement already satisfied: pytz>=2017.3 in c:\\users\\rokar\\appdata\\local\\programs\\python\\python38\\lib\\site-packages (from pandas>=0.23->seaborn) (2021.3)\n",
            "Requirement already satisfied: python-dateutil>=2.7.3 in c:\\users\\rokar\\appdata\\local\\programs\\python\\python38\\lib\\site-packages (from pandas>=0.23->seaborn) (2.8.2)\n",
            "Requirement already satisfied: cycler>=0.10 in c:\\users\\rokar\\appdata\\local\\programs\\python\\python38\\lib\\site-packages (from matplotlib>=2.2->seaborn) (0.11.0)\n",
            "Requirement already satisfied: pillow>=6.2.0 in c:\\users\\rokar\\appdata\\local\\programs\\python\\python38\\lib\\site-packages (from matplotlib>=2.2->seaborn) (9.0.0)\n",
            "Requirement already satisfied: kiwisolver>=1.0.1 in c:\\users\\rokar\\appdata\\local\\programs\\python\\python38\\lib\\site-packages (from matplotlib>=2.2->seaborn) (1.3.2)\n",
            "Requirement already satisfied: pyparsing>=2.2.1 in c:\\users\\rokar\\appdata\\local\\programs\\python\\python38\\lib\\site-packages (from matplotlib>=2.2->seaborn) (3.0.6)\n",
            "Requirement already satisfied: six>=1.5 in c:\\users\\rokar\\appdata\\local\\programs\\python\\python38\\lib\\site-packages (from python-dateutil>=2.7.3->pandas>=0.23->seaborn) (1.16.0)\n",
            "Note: you may need to restart the kernel to use updated packages.\n"
          ]
        },
        {
          "name": "stderr",
          "output_type": "stream",
          "text": [
            "WARNING: You are using pip version 20.2.3; however, version 22.1 is available.\n",
            "You should consider upgrading via the 'c:\\Users\\rokar\\AppData\\Local\\Programs\\Python\\Python38\\python.exe -m pip install --upgrade pip' command.\n"
          ]
        },
        {
          "name": "stdout",
          "output_type": "stream",
          "text": [
            "Requirement already satisfied: sklearn in c:\\users\\rokar\\appdata\\local\\programs\\python\\python38\\lib\\site-packages (0.0)\n",
            "Requirement already satisfied: scikit-learn in c:\\users\\rokar\\appdata\\local\\programs\\python\\python38\\lib\\site-packages (from sklearn) (1.0.2)\n",
            "Requirement already satisfied: scipy>=1.1.0 in c:\\users\\rokar\\appdata\\local\\programs\\python\\python38\\lib\\site-packages (from scikit-learn->sklearn) (1.7.3)\n",
            "Requirement already satisfied: threadpoolctl>=2.0.0 in c:\\users\\rokar\\appdata\\local\\programs\\python\\python38\\lib\\site-packages (from scikit-learn->sklearn) (3.0.0)\n",
            "Requirement already satisfied: joblib>=0.11 in c:\\users\\rokar\\appdata\\local\\programs\\python\\python38\\lib\\site-packages (from scikit-learn->sklearn) (1.1.0)\n",
            "Requirement already satisfied: numpy>=1.14.6 in c:\\users\\rokar\\appdata\\local\\programs\\python\\python38\\lib\\site-packages (from scikit-learn->sklearn) (1.20.0)\n",
            "Note: you may need to restart the kernel to use updated packages.\n"
          ]
        },
        {
          "name": "stderr",
          "output_type": "stream",
          "text": [
            "WARNING: You are using pip version 20.2.3; however, version 22.1 is available.\n",
            "You should consider upgrading via the 'c:\\Users\\rokar\\AppData\\Local\\Programs\\Python\\Python38\\python.exe -m pip install --upgrade pip' command.\n"
          ]
        }
      ],
      "source": [
        "%pip install scikit-plot\n",
        "%pip install matplotlib==3.4.0\n",
        "%pip install seaborn\n",
        "%pip install sklearn"
      ]
    },
    {
      "cell_type": "code",
      "execution_count": 227,
      "metadata": {},
      "outputs": [],
      "source": [
        "MODEL_PATH = \"./saved_models/\"\n",
        "MODEL_NAMES = ['AdaBoostClassifier', 'DecisionTreeClassifier', 'ExtraTreesClassifier', 'GaussianNB', 'GaussianProcessClassifier', 'KNeighborsClassifier', 'LogisticRegression', 'MLPClassifier', 'SVC', 'QuadraticDiscriminantAnalysis', 'RandomForestClassifier']\n",
        "PLOT_PATH = \"./plots/\""
      ]
    },
    {
      "cell_type": "markdown",
      "metadata": {
        "id": "U14BX23eYT_m"
      },
      "source": [
        "# Definicje metryk"
      ]
    },
    {
      "cell_type": "markdown",
      "metadata": {
        "id": "hrlmwCyiYgVt"
      },
      "source": [
        "Confusion Matrix"
      ]
    },
    {
      "cell_type": "code",
      "execution_count": 228,
      "metadata": {
        "id": "-0YqZRoDYTZ-"
      },
      "outputs": [],
      "source": [
        "from sklearn.metrics import confusion_matrix\n",
        "def conf_matrix(test_target, prediction):\n",
        "  matrix = confusion_matrix(test_target, prediction)\n",
        "  tn, fp, fn, tp = matrix.ravel()\n",
        "  plt.subplots(figsize=(10,10))\n",
        "  sns.heatmap([[tp, fp], [fn, tn]], annot=True)\n",
        "  return tn, fp, fn, tp"
      ]
    },
    {
      "cell_type": "markdown",
      "metadata": {
        "id": "WZgyGOUBYg8P"
      },
      "source": [
        "Błąd typu pierwszego | False positive rate"
      ]
    },
    {
      "cell_type": "code",
      "execution_count": 229,
      "metadata": {
        "id": "K1HXITR7YhSp"
      },
      "outputs": [],
      "source": [
        "false_positive_rate = lambda fp, tn:  fp / (fp + tn)"
      ]
    },
    {
      "cell_type": "markdown",
      "metadata": {
        "id": "ot8NENS4Yh3m"
      },
      "source": [
        "Błąd typu drugiego | False negative rate\n"
      ]
    },
    {
      "cell_type": "code",
      "execution_count": 230,
      "metadata": {
        "id": "3pMVhRPgYiOf"
      },
      "outputs": [],
      "source": [
        "false_negative_rate = lambda fn, tp: fn / (tp + fn)"
      ]
    },
    {
      "cell_type": "markdown",
      "metadata": {
        "id": "BwnhJ4DDfOfX"
      },
      "source": [
        "Specifity | True negative rate"
      ]
    },
    {
      "cell_type": "code",
      "execution_count": 231,
      "metadata": {
        "id": "OTQby6imeIwE"
      },
      "outputs": [],
      "source": [
        "true_negative_rate = lambda tn, fp: tn / (tn + fp)"
      ]
    },
    {
      "cell_type": "markdown",
      "metadata": {
        "id": "pNIhETfZfQRj"
      },
      "source": [
        "Negative predictive value"
      ]
    },
    {
      "cell_type": "code",
      "execution_count": 232,
      "metadata": {
        "id": "C5kpzvYggLX9"
      },
      "outputs": [],
      "source": [
        "negative_predictive_value = lambda tn, fn: tn / (tn + fn)"
      ]
    },
    {
      "cell_type": "markdown",
      "metadata": {
        "id": "WKwIzdJQfWos"
      },
      "source": [
        "False discovery rate"
      ]
    },
    {
      "cell_type": "code",
      "execution_count": 233,
      "metadata": {
        "id": "d3JmFCE2gL4i"
      },
      "outputs": [],
      "source": [
        "false_discovery_rate = lambda fp, tp: fp/ (tp + fp)"
      ]
    },
    {
      "cell_type": "markdown",
      "metadata": {
        "id": "TpcHnAU2fY3x"
      },
      "source": [
        "Sensivity | Recall | True postive rate"
      ]
    },
    {
      "cell_type": "code",
      "execution_count": 234,
      "metadata": {
        "id": "NSyJ7ZQ1ieDW"
      },
      "outputs": [],
      "source": [
        "recall_score = lambda tp, fn: tp / (tp + fn)"
      ]
    },
    {
      "cell_type": "markdown",
      "metadata": {
        "id": "iAOaetlkfhJn"
      },
      "source": [
        "Precision | Positive predictive value"
      ]
    },
    {
      "cell_type": "code",
      "execution_count": 235,
      "metadata": {
        "id": "eL7jcR2ffnI9"
      },
      "outputs": [],
      "source": [
        "precision_score = lambda tp, fp: tp/ (tp + fp)"
      ]
    },
    {
      "cell_type": "markdown",
      "metadata": {
        "id": "qd34Yikcfnyo"
      },
      "source": [
        "Accuracy"
      ]
    },
    {
      "cell_type": "code",
      "execution_count": 236,
      "metadata": {
        "id": "WcW6C1tsgNK3"
      },
      "outputs": [],
      "source": [
        "accuracy = lambda tp, fp, fn, tn: (tp + tn) / (tp + fp + fn + tn) "
      ]
    },
    {
      "cell_type": "markdown",
      "metadata": {
        "id": "p5qLR8dDfo-9"
      },
      "source": [
        "F beta score"
      ]
    },
    {
      "cell_type": "code",
      "execution_count": 237,
      "metadata": {
        "id": "k7Ds9tctgNpR"
      },
      "outputs": [],
      "source": [
        "f_beta_score = lambda precision_score, recall_score, beta=0.5: (1 + np.square(beta)) * precision_score * recall_score / (np.square(beta) * precision_score + recall_score)"
      ]
    },
    {
      "cell_type": "markdown",
      "metadata": {
        "id": "Pwudtmj4fqUk"
      },
      "source": [
        "F1 score"
      ]
    },
    {
      "cell_type": "code",
      "execution_count": 238,
      "metadata": {
        "id": "d1-ATKhxgOMd"
      },
      "outputs": [],
      "source": [
        "f1_beta_score = lambda precision_score, recall_score: 2* precision_score * recall_score / (precision_score + recall_score)"
      ]
    },
    {
      "cell_type": "markdown",
      "metadata": {
        "id": "2IpWg_iafroL"
      },
      "source": [
        "F2 score"
      ]
    },
    {
      "cell_type": "code",
      "execution_count": 239,
      "metadata": {
        "id": "18HI0961gUi9"
      },
      "outputs": [],
      "source": [
        "f2_beta_score = lambda precision_score, recall_score: 5 * precision_score * recall_score / (4*precision_score + recall_score)"
      ]
    },
    {
      "cell_type": "markdown",
      "metadata": {
        "id": "5yWfQidGfvQ_"
      },
      "source": [
        "Matthews correlation coefficient"
      ]
    },
    {
      "cell_type": "code",
      "execution_count": 240,
      "metadata": {
        "id": "Cmhlj3ovgTh8"
      },
      "outputs": [],
      "source": [
        "matthew_correlation_coefficient = lambda tp, tn, fp, fn: (tp * tn - fp * fn)/(tp + fp)*(tp * fn)*(tn + fp)*(tn + fn)"
      ]
    },
    {
      "cell_type": "markdown",
      "metadata": {
        "id": "NeZreK2YftL7"
      },
      "source": [
        "Cohen Kappa"
      ]
    },
    {
      "cell_type": "code",
      "execution_count": 241,
      "metadata": {
        "id": "UddLayLPgUBE"
      },
      "outputs": [],
      "source": [
        "from sklearn.metrics import cohen_kappa_score\n",
        "# cohen_kappa = cohen_kappa_score(test_target, prediction)"
      ]
    },
    {
      "cell_type": "markdown",
      "metadata": {
        "id": "muOesLYFfzOv"
      },
      "source": [
        "ROC AUC score"
      ]
    },
    {
      "cell_type": "code",
      "execution_count": 242,
      "metadata": {
        "id": "Y8Qn7nQpgSzV"
      },
      "outputs": [],
      "source": [
        "from sklearn.metrics import roc_auc_score\n",
        "# roc_auc = roc_auc_score(test_target, prediction)"
      ]
    },
    {
      "cell_type": "markdown",
      "metadata": {
        "id": "n5QQmIQrf3MD"
      },
      "source": [
        "PR AUC | Average precision"
      ]
    },
    {
      "cell_type": "code",
      "execution_count": 243,
      "metadata": {
        "id": "PrN-IVb8gR68"
      },
      "outputs": [],
      "source": [
        "from sklearn.metrics import average_precision_score\n",
        "# average_precision = average_precision_score(test_target, prediction)"
      ]
    },
    {
      "cell_type": "markdown",
      "metadata": {
        "id": "owxQe-SJf6VW"
      },
      "source": [
        "Log loss"
      ]
    },
    {
      "cell_type": "code",
      "execution_count": 244,
      "metadata": {
        "id": "9psK7PhFgRgI"
      },
      "outputs": [],
      "source": [
        "from sklearn.metrics import log_loss\n",
        "# loss = log_loss(test_target, prob_prediction)"
      ]
    },
    {
      "cell_type": "markdown",
      "metadata": {
        "id": "Sk30Ei5gf7Td"
      },
      "source": [
        "Brier score"
      ]
    },
    {
      "cell_type": "code",
      "execution_count": 245,
      "metadata": {
        "id": "qzNLbIJYgRF_"
      },
      "outputs": [],
      "source": [
        "from sklearn.metrics import brier_score_loss\n",
        "# brier_score = brier_score_loss(test_target, prediction)"
      ]
    },
    {
      "cell_type": "markdown",
      "metadata": {
        "id": "FihCfQ-ofyGP"
      },
      "source": [
        "ROC curve"
      ]
    },
    {
      "cell_type": "code",
      "execution_count": 246,
      "metadata": {
        "id": "ag4aeri7gTKr"
      },
      "outputs": [],
      "source": [
        "from sklearn.metrics import roc_curve, auc\n",
        "def plot_roc_curve(test_target, prediction):\n",
        "  fpr, tpr, thresholds = roc_curve(test_target, prediction)\n",
        "  roc_auc = auc(fpr, tpr)\n",
        "  plt.plot(fpr, tpr)"
      ]
    },
    {
      "cell_type": "markdown",
      "metadata": {
        "id": "2YaNRw2rf0sK"
      },
      "source": [
        "Precision-Recall curve"
      ]
    },
    {
      "cell_type": "code",
      "execution_count": 247,
      "metadata": {
        "id": "ZLHqqPrtmZw0"
      },
      "outputs": [],
      "source": [
        "from sklearn.metrics import precision_recall_curve\n",
        "def plot_precision_recall_curve(test_target, prob_prediction):\n",
        "  precision, recall, thresholds  =precision_recall_curve(test_target, prob_prediction)\n",
        "  fig, ax = plt.subplots()\n",
        "  ax.plot(recall, precision, color='purple')\n",
        "  ax.set_title('Precision-Recall Curve')\n",
        "  ax.set_ylabel('Precision')\n",
        "  ax.set_xlabel('Recall')\n",
        "  plt.show()"
      ]
    },
    {
      "cell_type": "markdown",
      "metadata": {
        "id": "pqfmi7c3f9Cj"
      },
      "source": [
        "Cumulative gain chart"
      ]
    },
    {
      "cell_type": "code",
      "execution_count": 248,
      "metadata": {
        "id": "cxCFX91HgQxl"
      },
      "outputs": [],
      "source": [
        "from scikitplot.metrics import plot_cumulative_gain\n",
        "# plot_cumulative_gain(test_target, prob_prediction)"
      ]
    },
    {
      "cell_type": "markdown",
      "metadata": {
        "id": "-qpjLMqif_qW"
      },
      "source": [
        "**Lift** curve | Lift chart"
      ]
    },
    {
      "cell_type": "code",
      "execution_count": 249,
      "metadata": {
        "id": "y3vYOgBcgQYP"
      },
      "outputs": [],
      "source": [
        "from scikitplot.metrics import plot_lift_curve\n",
        "# plot_lift_curve(test_target, prob_prediction)"
      ]
    },
    {
      "cell_type": "markdown",
      "metadata": {
        "id": "6oPJ_5UrgCaQ"
      },
      "source": [
        "Kolmogorov-Smirnov plot"
      ]
    },
    {
      "cell_type": "code",
      "execution_count": 250,
      "metadata": {
        "id": "YhQTNfP2gP-W"
      },
      "outputs": [],
      "source": [
        "from scikitplot.metrics import plot_ks_statistic\n",
        "# plot_ks_statistic(test_target, prob_prediction)"
      ]
    },
    {
      "cell_type": "markdown",
      "metadata": {
        "id": "c_0a2PIw5eEq"
      },
      "source": [
        "Porównanie wysokości metryk"
      ]
    },
    {
      "cell_type": "code",
      "execution_count": 251,
      "metadata": {
        "id": "kUZ7mtkg5do0"
      },
      "outputs": [],
      "source": [
        "import matplotlib.pyplot as plt\n",
        "\n",
        "def make_plot(list_1, list_2, plot_title, colors=None):\n",
        "    figure, ax = plt.subplots()\n",
        "    bars = ax.barh(list_1, list_2, color=colors)\n",
        "    plt.title(f\"{plot_title}\")\n",
        "    plt.savefig(f\"{PLOT_PATH}{plot_title}\")\n",
        "    ax.bar_label(bars, label_type='center')\n",
        "    plt.show()\n",
        "    plt.clf()"
      ]
    },
    {
      "cell_type": "markdown",
      "metadata": {
        "id": "ml3qCM6uDZDI"
      },
      "source": [
        "# Ocena dla jednego modelu"
      ]
    },
    {
      "cell_type": "markdown",
      "metadata": {
        "id": "mXv0A_nPt4JB"
      },
      "source": [
        "## Przygotowanie modelu do oceny"
      ]
    },
    {
      "cell_type": "code",
      "execution_count": 252,
      "metadata": {
        "id": "R8952K5DbNwp"
      },
      "outputs": [],
      "source": [
        "from sklearn.datasets import load_breast_cancer\n",
        "from sklearn.model_selection import train_test_split\n",
        "import matplotlib.pyplot as plt\n",
        "import seaborn as sns\n",
        "import pickle\n",
        "import numpy as np"
      ]
    },
    {
      "cell_type": "markdown",
      "metadata": {
        "id": "TuZGowNFcjxW"
      },
      "source": [
        "Załadowanie danych"
      ]
    },
    {
      "cell_type": "code",
      "execution_count": 253,
      "metadata": {
        "colab": {
          "base_uri": "https://localhost:8080/",
          "height": 523
        },
        "id": "yYqxoy4YcjWe",
        "outputId": "2481c98b-6cae-49f1-89d3-2141fdd87762"
      },
      "outputs": [
        {
          "data": {
            "text/html": [
              "<div>\n",
              "<style scoped>\n",
              "    .dataframe tbody tr th:only-of-type {\n",
              "        vertical-align: middle;\n",
              "    }\n",
              "\n",
              "    .dataframe tbody tr th {\n",
              "        vertical-align: top;\n",
              "    }\n",
              "\n",
              "    .dataframe thead th {\n",
              "        text-align: right;\n",
              "    }\n",
              "</style>\n",
              "<table border=\"1\" class=\"dataframe\">\n",
              "  <thead>\n",
              "    <tr style=\"text-align: right;\">\n",
              "      <th></th>\n",
              "      <th>mean radius</th>\n",
              "      <th>mean perimeter</th>\n",
              "      <th>mean area</th>\n",
              "      <th>mean smoothness</th>\n",
              "      <th>mean compactness</th>\n",
              "      <th>mean concavity</th>\n",
              "      <th>mean concave points</th>\n",
              "      <th>radius error</th>\n",
              "      <th>perimeter error</th>\n",
              "      <th>area error</th>\n",
              "      <th>...</th>\n",
              "      <th>concavity error</th>\n",
              "      <th>concave points error</th>\n",
              "      <th>worst radius</th>\n",
              "      <th>worst perimeter</th>\n",
              "      <th>worst area</th>\n",
              "      <th>worst smoothness</th>\n",
              "      <th>worst compactness</th>\n",
              "      <th>worst concavity</th>\n",
              "      <th>worst concave points</th>\n",
              "      <th>target</th>\n",
              "    </tr>\n",
              "  </thead>\n",
              "  <tbody>\n",
              "    <tr>\n",
              "      <th>0</th>\n",
              "      <td>17.99</td>\n",
              "      <td>122.80</td>\n",
              "      <td>1001.0</td>\n",
              "      <td>0.11840</td>\n",
              "      <td>0.27760</td>\n",
              "      <td>0.30010</td>\n",
              "      <td>0.14710</td>\n",
              "      <td>1.0950</td>\n",
              "      <td>8.589</td>\n",
              "      <td>153.40</td>\n",
              "      <td>...</td>\n",
              "      <td>0.05373</td>\n",
              "      <td>0.01587</td>\n",
              "      <td>25.380</td>\n",
              "      <td>184.60</td>\n",
              "      <td>2019.0</td>\n",
              "      <td>0.16220</td>\n",
              "      <td>0.66560</td>\n",
              "      <td>0.7119</td>\n",
              "      <td>0.2654</td>\n",
              "      <td>0</td>\n",
              "    </tr>\n",
              "    <tr>\n",
              "      <th>1</th>\n",
              "      <td>20.57</td>\n",
              "      <td>132.90</td>\n",
              "      <td>1326.0</td>\n",
              "      <td>0.08474</td>\n",
              "      <td>0.07864</td>\n",
              "      <td>0.08690</td>\n",
              "      <td>0.07017</td>\n",
              "      <td>0.5435</td>\n",
              "      <td>3.398</td>\n",
              "      <td>74.08</td>\n",
              "      <td>...</td>\n",
              "      <td>0.01860</td>\n",
              "      <td>0.01340</td>\n",
              "      <td>24.990</td>\n",
              "      <td>158.80</td>\n",
              "      <td>1956.0</td>\n",
              "      <td>0.12380</td>\n",
              "      <td>0.18660</td>\n",
              "      <td>0.2416</td>\n",
              "      <td>0.1860</td>\n",
              "      <td>0</td>\n",
              "    </tr>\n",
              "    <tr>\n",
              "      <th>2</th>\n",
              "      <td>19.69</td>\n",
              "      <td>130.00</td>\n",
              "      <td>1203.0</td>\n",
              "      <td>0.10960</td>\n",
              "      <td>0.15990</td>\n",
              "      <td>0.19740</td>\n",
              "      <td>0.12790</td>\n",
              "      <td>0.7456</td>\n",
              "      <td>4.585</td>\n",
              "      <td>94.03</td>\n",
              "      <td>...</td>\n",
              "      <td>0.03832</td>\n",
              "      <td>0.02058</td>\n",
              "      <td>23.570</td>\n",
              "      <td>152.50</td>\n",
              "      <td>1709.0</td>\n",
              "      <td>0.14440</td>\n",
              "      <td>0.42450</td>\n",
              "      <td>0.4504</td>\n",
              "      <td>0.2430</td>\n",
              "      <td>0</td>\n",
              "    </tr>\n",
              "    <tr>\n",
              "      <th>3</th>\n",
              "      <td>11.42</td>\n",
              "      <td>77.58</td>\n",
              "      <td>386.1</td>\n",
              "      <td>0.14250</td>\n",
              "      <td>0.28390</td>\n",
              "      <td>0.24140</td>\n",
              "      <td>0.10520</td>\n",
              "      <td>0.4956</td>\n",
              "      <td>3.445</td>\n",
              "      <td>27.23</td>\n",
              "      <td>...</td>\n",
              "      <td>0.05661</td>\n",
              "      <td>0.01867</td>\n",
              "      <td>14.910</td>\n",
              "      <td>98.87</td>\n",
              "      <td>567.7</td>\n",
              "      <td>0.20980</td>\n",
              "      <td>0.86630</td>\n",
              "      <td>0.6869</td>\n",
              "      <td>0.2575</td>\n",
              "      <td>0</td>\n",
              "    </tr>\n",
              "    <tr>\n",
              "      <th>4</th>\n",
              "      <td>20.29</td>\n",
              "      <td>135.10</td>\n",
              "      <td>1297.0</td>\n",
              "      <td>0.10030</td>\n",
              "      <td>0.13280</td>\n",
              "      <td>0.19800</td>\n",
              "      <td>0.10430</td>\n",
              "      <td>0.7572</td>\n",
              "      <td>5.438</td>\n",
              "      <td>94.44</td>\n",
              "      <td>...</td>\n",
              "      <td>0.05688</td>\n",
              "      <td>0.01885</td>\n",
              "      <td>22.540</td>\n",
              "      <td>152.20</td>\n",
              "      <td>1575.0</td>\n",
              "      <td>0.13740</td>\n",
              "      <td>0.20500</td>\n",
              "      <td>0.4000</td>\n",
              "      <td>0.1625</td>\n",
              "      <td>0</td>\n",
              "    </tr>\n",
              "    <tr>\n",
              "      <th>...</th>\n",
              "      <td>...</td>\n",
              "      <td>...</td>\n",
              "      <td>...</td>\n",
              "      <td>...</td>\n",
              "      <td>...</td>\n",
              "      <td>...</td>\n",
              "      <td>...</td>\n",
              "      <td>...</td>\n",
              "      <td>...</td>\n",
              "      <td>...</td>\n",
              "      <td>...</td>\n",
              "      <td>...</td>\n",
              "      <td>...</td>\n",
              "      <td>...</td>\n",
              "      <td>...</td>\n",
              "      <td>...</td>\n",
              "      <td>...</td>\n",
              "      <td>...</td>\n",
              "      <td>...</td>\n",
              "      <td>...</td>\n",
              "      <td>...</td>\n",
              "    </tr>\n",
              "    <tr>\n",
              "      <th>564</th>\n",
              "      <td>21.56</td>\n",
              "      <td>142.00</td>\n",
              "      <td>1479.0</td>\n",
              "      <td>0.11100</td>\n",
              "      <td>0.11590</td>\n",
              "      <td>0.24390</td>\n",
              "      <td>0.13890</td>\n",
              "      <td>1.1760</td>\n",
              "      <td>7.673</td>\n",
              "      <td>158.70</td>\n",
              "      <td>...</td>\n",
              "      <td>0.05198</td>\n",
              "      <td>0.02454</td>\n",
              "      <td>25.450</td>\n",
              "      <td>166.10</td>\n",
              "      <td>2027.0</td>\n",
              "      <td>0.14100</td>\n",
              "      <td>0.21130</td>\n",
              "      <td>0.4107</td>\n",
              "      <td>0.2216</td>\n",
              "      <td>0</td>\n",
              "    </tr>\n",
              "    <tr>\n",
              "      <th>565</th>\n",
              "      <td>20.13</td>\n",
              "      <td>131.20</td>\n",
              "      <td>1261.0</td>\n",
              "      <td>0.09780</td>\n",
              "      <td>0.10340</td>\n",
              "      <td>0.14400</td>\n",
              "      <td>0.09791</td>\n",
              "      <td>0.7655</td>\n",
              "      <td>5.203</td>\n",
              "      <td>99.04</td>\n",
              "      <td>...</td>\n",
              "      <td>0.03950</td>\n",
              "      <td>0.01678</td>\n",
              "      <td>23.690</td>\n",
              "      <td>155.00</td>\n",
              "      <td>1731.0</td>\n",
              "      <td>0.11660</td>\n",
              "      <td>0.19220</td>\n",
              "      <td>0.3215</td>\n",
              "      <td>0.1628</td>\n",
              "      <td>0</td>\n",
              "    </tr>\n",
              "    <tr>\n",
              "      <th>566</th>\n",
              "      <td>16.60</td>\n",
              "      <td>108.30</td>\n",
              "      <td>858.1</td>\n",
              "      <td>0.08455</td>\n",
              "      <td>0.10230</td>\n",
              "      <td>0.09251</td>\n",
              "      <td>0.05302</td>\n",
              "      <td>0.4564</td>\n",
              "      <td>3.425</td>\n",
              "      <td>48.55</td>\n",
              "      <td>...</td>\n",
              "      <td>0.04730</td>\n",
              "      <td>0.01557</td>\n",
              "      <td>18.980</td>\n",
              "      <td>126.70</td>\n",
              "      <td>1124.0</td>\n",
              "      <td>0.11390</td>\n",
              "      <td>0.30940</td>\n",
              "      <td>0.3403</td>\n",
              "      <td>0.1418</td>\n",
              "      <td>0</td>\n",
              "    </tr>\n",
              "    <tr>\n",
              "      <th>567</th>\n",
              "      <td>20.60</td>\n",
              "      <td>140.10</td>\n",
              "      <td>1265.0</td>\n",
              "      <td>0.11780</td>\n",
              "      <td>0.27700</td>\n",
              "      <td>0.35140</td>\n",
              "      <td>0.15200</td>\n",
              "      <td>0.7260</td>\n",
              "      <td>5.772</td>\n",
              "      <td>86.22</td>\n",
              "      <td>...</td>\n",
              "      <td>0.07117</td>\n",
              "      <td>0.01664</td>\n",
              "      <td>25.740</td>\n",
              "      <td>184.60</td>\n",
              "      <td>1821.0</td>\n",
              "      <td>0.16500</td>\n",
              "      <td>0.86810</td>\n",
              "      <td>0.9387</td>\n",
              "      <td>0.2650</td>\n",
              "      <td>0</td>\n",
              "    </tr>\n",
              "    <tr>\n",
              "      <th>568</th>\n",
              "      <td>7.76</td>\n",
              "      <td>47.92</td>\n",
              "      <td>181.0</td>\n",
              "      <td>0.05263</td>\n",
              "      <td>0.04362</td>\n",
              "      <td>0.00000</td>\n",
              "      <td>0.00000</td>\n",
              "      <td>0.3857</td>\n",
              "      <td>2.548</td>\n",
              "      <td>19.15</td>\n",
              "      <td>...</td>\n",
              "      <td>0.00000</td>\n",
              "      <td>0.00000</td>\n",
              "      <td>9.456</td>\n",
              "      <td>59.16</td>\n",
              "      <td>268.6</td>\n",
              "      <td>0.08996</td>\n",
              "      <td>0.06444</td>\n",
              "      <td>0.0000</td>\n",
              "      <td>0.0000</td>\n",
              "      <td>1</td>\n",
              "    </tr>\n",
              "  </tbody>\n",
              "</table>\n",
              "<p>569 rows × 22 columns</p>\n",
              "</div>"
            ],
            "text/plain": [
              "     mean radius  mean perimeter  mean area  mean smoothness  \\\n",
              "0          17.99          122.80     1001.0          0.11840   \n",
              "1          20.57          132.90     1326.0          0.08474   \n",
              "2          19.69          130.00     1203.0          0.10960   \n",
              "3          11.42           77.58      386.1          0.14250   \n",
              "4          20.29          135.10     1297.0          0.10030   \n",
              "..           ...             ...        ...              ...   \n",
              "564        21.56          142.00     1479.0          0.11100   \n",
              "565        20.13          131.20     1261.0          0.09780   \n",
              "566        16.60          108.30      858.1          0.08455   \n",
              "567        20.60          140.10     1265.0          0.11780   \n",
              "568         7.76           47.92      181.0          0.05263   \n",
              "\n",
              "     mean compactness  mean concavity  mean concave points  radius error  \\\n",
              "0             0.27760         0.30010              0.14710        1.0950   \n",
              "1             0.07864         0.08690              0.07017        0.5435   \n",
              "2             0.15990         0.19740              0.12790        0.7456   \n",
              "3             0.28390         0.24140              0.10520        0.4956   \n",
              "4             0.13280         0.19800              0.10430        0.7572   \n",
              "..                ...             ...                  ...           ...   \n",
              "564           0.11590         0.24390              0.13890        1.1760   \n",
              "565           0.10340         0.14400              0.09791        0.7655   \n",
              "566           0.10230         0.09251              0.05302        0.4564   \n",
              "567           0.27700         0.35140              0.15200        0.7260   \n",
              "568           0.04362         0.00000              0.00000        0.3857   \n",
              "\n",
              "     perimeter error  area error  ...  concavity error  concave points error  \\\n",
              "0              8.589      153.40  ...          0.05373               0.01587   \n",
              "1              3.398       74.08  ...          0.01860               0.01340   \n",
              "2              4.585       94.03  ...          0.03832               0.02058   \n",
              "3              3.445       27.23  ...          0.05661               0.01867   \n",
              "4              5.438       94.44  ...          0.05688               0.01885   \n",
              "..               ...         ...  ...              ...                   ...   \n",
              "564            7.673      158.70  ...          0.05198               0.02454   \n",
              "565            5.203       99.04  ...          0.03950               0.01678   \n",
              "566            3.425       48.55  ...          0.04730               0.01557   \n",
              "567            5.772       86.22  ...          0.07117               0.01664   \n",
              "568            2.548       19.15  ...          0.00000               0.00000   \n",
              "\n",
              "     worst radius  worst perimeter  worst area  worst smoothness  \\\n",
              "0          25.380           184.60      2019.0           0.16220   \n",
              "1          24.990           158.80      1956.0           0.12380   \n",
              "2          23.570           152.50      1709.0           0.14440   \n",
              "3          14.910            98.87       567.7           0.20980   \n",
              "4          22.540           152.20      1575.0           0.13740   \n",
              "..            ...              ...         ...               ...   \n",
              "564        25.450           166.10      2027.0           0.14100   \n",
              "565        23.690           155.00      1731.0           0.11660   \n",
              "566        18.980           126.70      1124.0           0.11390   \n",
              "567        25.740           184.60      1821.0           0.16500   \n",
              "568         9.456            59.16       268.6           0.08996   \n",
              "\n",
              "     worst compactness  worst concavity  worst concave points  target  \n",
              "0              0.66560           0.7119                0.2654       0  \n",
              "1              0.18660           0.2416                0.1860       0  \n",
              "2              0.42450           0.4504                0.2430       0  \n",
              "3              0.86630           0.6869                0.2575       0  \n",
              "4              0.20500           0.4000                0.1625       0  \n",
              "..                 ...              ...                   ...     ...  \n",
              "564            0.21130           0.4107                0.2216       0  \n",
              "565            0.19220           0.3215                0.1628       0  \n",
              "566            0.30940           0.3403                0.1418       0  \n",
              "567            0.86810           0.9387                0.2650       0  \n",
              "568            0.06444           0.0000                0.0000       1  \n",
              "\n",
              "[569 rows x 22 columns]"
            ]
          },
          "execution_count": 253,
          "metadata": {},
          "output_type": "execute_result"
        }
      ],
      "source": [
        "features, target = load_breast_cancer(return_X_y=True, as_frame=True)\n",
        "data = features.join(target)\n",
        "data = data.drop(columns=[\"mean texture\", \"texture error\", \"worst texture\", \"mean symmetry\", \"worst symmetry\", \"symmetry error\", \"mean fractal dimension\", \"fractal dimension error\", \"worst fractal dimension\"])\n",
        "data"
      ]
    },
    {
      "cell_type": "code",
      "execution_count": 254,
      "metadata": {
        "id": "Kn6jB251cuGq"
      },
      "outputs": [],
      "source": [
        "train, test = train_test_split(data, random_state=47, test_size=0.4)"
      ]
    },
    {
      "cell_type": "code",
      "execution_count": 255,
      "metadata": {
        "id": "0TZ9vyYrcuwR"
      },
      "outputs": [],
      "source": [
        "test_features = test.drop(columns=\"target\")\n",
        "test_target = test[\"target\"]"
      ]
    },
    {
      "cell_type": "markdown",
      "metadata": {
        "id": "4DhVj4G4YQiU"
      },
      "source": [
        "Załadowanie modelu"
      ]
    },
    {
      "cell_type": "code",
      "execution_count": 256,
      "metadata": {},
      "outputs": [],
      "source": [
        "evaluated_model = MODEL_NAMES[1]"
      ]
    },
    {
      "cell_type": "code",
      "execution_count": 257,
      "metadata": {
        "id": "2dAX1RcCYMVr"
      },
      "outputs": [],
      "source": [
        "with open(MODEL_PATH + evaluated_model, 'rb') as f:\n",
        "    classifier = pickle.load(f)"
      ]
    },
    {
      "cell_type": "markdown",
      "metadata": {
        "id": "KPm9yXNUciKN"
      },
      "source": [
        "Predykcja"
      ]
    },
    {
      "cell_type": "code",
      "execution_count": 258,
      "metadata": {
        "id": "JOhn8ftFch2u"
      },
      "outputs": [],
      "source": [
        "prediction = classifier.predict(test_features)"
      ]
    },
    {
      "cell_type": "code",
      "execution_count": 259,
      "metadata": {
        "id": "w_Q6PA_XUM-x"
      },
      "outputs": [],
      "source": [
        "prob_prediction = classifier.predict_proba(test_features)"
      ]
    },
    {
      "cell_type": "markdown",
      "metadata": {
        "id": "a6P3aSzYDBjO"
      },
      "source": [
        "## Metryki\n"
      ]
    },
    {
      "cell_type": "code",
      "execution_count": 260,
      "metadata": {
        "colab": {
          "base_uri": "https://localhost:8080/",
          "height": 592
        },
        "id": "Ltt0otePxjcX",
        "outputId": "60a337b2-eaf2-4b1e-f841-8974e27ad2e2"
      },
      "outputs": [
        {
          "data": {
            "image/png": "[encoded data removed]",
            "text/plain": [
              "<Figure size 720x720 with 2 Axes>"
            ]
          },
          "metadata": {
            "needs_background": "light"
          },
          "output_type": "display_data"
        }
      ],
      "source": [
        "tn, fp, fn, tp = conf_matrix(test_target, prediction)"
      ]
    },
    {
      "cell_type": "code",
      "execution_count": 261,
      "metadata": {
        "id": "AD8-R-TIxZt4"
      },
      "outputs": [],
      "source": [
        "m_fpr = false_positive_rate(fp, tn)\n",
        "m_fnr = false_negative_rate(fn, tp)\n",
        "m_tnr = true_negative_rate(fn, tp)\n",
        "m_npv = negative_predictive_value(tn, fn)\n",
        "m_fdr = false_discovery_rate(fp, tp)\n",
        "m_rs = recall_score(tp, fn)\n",
        "m_ps = precision_score(tp, fp)\n",
        "m_acc = accuracy(tp, fp, fn, tn)\n",
        "m_fbs = f_beta_score(m_ps, m_rs)\n",
        "m_f1bs = f1_beta_score(m_ps, m_rs)\n",
        "m_f2bs = f2_beta_score(m_ps, m_rs)\n",
        "m_mcc = matthew_correlation_coefficient(tp, tn, fp, fn)\n",
        "m_cohen_kappa = cohen_kappa_score(test_target, prediction)\n",
        "m_roc_auc =  roc_auc_score(test_target, prediction)\n",
        "m_avg_prec =  average_precision_score(test_target, prediction)\n",
        "m_log_loss = log_loss(test_target, prob_prediction)\n",
        "m_brier_score = brier_score_loss(test_target, prediction)"
      ]
    },
    {
      "cell_type": "code",
      "execution_count": 262,
      "metadata": {
        "colab": {
          "base_uri": "https://localhost:8080/"
        },
        "id": "mXDVi8d3ksxU",
        "outputId": "1a5c0628-fa65-4d76-9941-a38ebe2cccc0"
      },
      "outputs": [
        {
          "name": "stdout",
          "output_type": "stream",
          "text": [
            "False positive rate | Type-I error: 0.04878048780487805 \n",
            "False negative rate | Type-II error: 0.0684931506849315 \n",
            "True negative rate | Specificity: 0.0684931506849315 \n",
            "Negative predicitve value: 0.8863636363636364 \n",
            "False discovery rate: 0.02857142857142857 \n",
            "True positive rate | Recall | Sensivity: 0.9315068493150684 \n",
            "Positive predictive value | Precision: 0.9714285714285714 \n",
            "Accuracy: 0.9385964912280702 \n",
            "F beta score: 0.9631728045325778 \n",
            "F1 score: 0.9510489510489512 \n",
            "F2 score: 0.9392265193370165 \n",
            "Cohen Kappa: 0.8687931601446892 \n",
            "Matthews correlation coefficient: 740798683.4285713 \n",
            "ROC AUC score: 0.9413631807550952 \n",
            "PR AUC | Average precision: 0.9487520170288736 \n",
            "Log loss: 2.1208020593366212 \n",
            "Brier score: 0.06140350877192982 \n",
            "\n"
          ]
        }
      ],
      "source": [
        "print(f\"False positive rate | Type-I error: {m_fpr} \\n\" +\n",
        "      f\"False negative rate | Type-II error: {m_fnr} \\n\" +\n",
        "      f\"True negative rate | Specificity: {m_tnr} \\n\" +\n",
        "      f\"Negative predicitve value: {m_npv} \\n\" +\n",
        "      f\"False discovery rate: {m_fdr} \\n\" +\n",
        "      f\"True positive rate | Recall | Sensivity: {m_rs} \\n\" +\n",
        "      f\"Positive predictive value | Precision: {m_ps} \\n\" +\n",
        "      f\"Accuracy: {m_acc} \\n\" +\n",
        "      f\"F beta score: {m_fbs} \\n\" +\n",
        "      f\"F1 score: {m_f1bs} \\n\" +\n",
        "      f\"F2 score: {m_f2bs} \\n\" +\n",
        "      f\"Cohen Kappa: {m_cohen_kappa} \\n\" +\n",
        "      f\"Matthews correlation coefficient: {m_mcc} \\n\" +\n",
        "      f\"ROC AUC score: {m_roc_auc} \\n\" +\n",
        "      f\"PR AUC | Average precision: {m_avg_prec} \\n\" +\n",
        "      f\"Log loss: {m_log_loss} \\n\" +\n",
        "      f\"Brier score: {m_brier_score} \\n\")"
      ]
    },
    {
      "cell_type": "code",
      "execution_count": 263,
      "metadata": {
        "colab": {
          "base_uri": "https://localhost:8080/",
          "height": 265
        },
        "id": "MiyzoAdF4877",
        "outputId": "6bb1e3be-cffb-43d9-c91e-21bed97a49bb"
      },
      "outputs": [
        {
          "data": {
            "image/png": "[encoded data removed]",
            "text/plain": [
              "<Figure size 432x288 with 1 Axes>"
            ]
          },
          "metadata": {
            "needs_background": "light"
          },
          "output_type": "display_data"
        }
      ],
      "source": [
        "plot_roc_curve(test_target, prediction)"
      ]
    },
    {
      "cell_type": "code",
      "execution_count": 264,
      "metadata": {
        "colab": {
          "base_uri": "https://localhost:8080/",
          "height": 295
        },
        "id": "-GtjsAIN49zH",
        "outputId": "1ec2395f-0235-4fcf-b595-b7d2fb9a25f2"
      },
      "outputs": [
        {
          "data": {
            "image/png": "[encoded data removed]",
            "text/plain": [
              "<Figure size 432x288 with 1 Axes>"
            ]
          },
          "metadata": {
            "needs_background": "light"
          },
          "output_type": "display_data"
        }
      ],
      "source": [
        "plot_precision_recall_curve(test_target, prob_prediction[:,1])"
      ]
    },
    {
      "cell_type": "code",
      "execution_count": 265,
      "metadata": {
        "colab": {
          "base_uri": "https://localhost:8080/",
          "height": 333
        },
        "id": "tb9Nkr_e5ECX",
        "outputId": "6263c88a-116b-4f7a-a4ba-f3156409e09c"
      },
      "outputs": [
        {
          "data": {
            "text/plain": [
              "<AxesSubplot:title={'center':'Cumulative Gains Curve'}, xlabel='Percentage of sample', ylabel='Gain'>"
            ]
          },
          "execution_count": 265,
          "metadata": {},
          "output_type": "execute_result"
        },
        {
          "data": {
            "image/png": "[encoded data removed]",
            "text/plain": [
              "<Figure size 432x288 with 1 Axes>"
            ]
          },
          "metadata": {
            "needs_background": "light"
          },
          "output_type": "display_data"
        }
      ],
      "source": [
        "plot_cumulative_gain(test_target, prob_prediction)"
      ]
    },
    {
      "cell_type": "code",
      "execution_count": 266,
      "metadata": {
        "colab": {
          "base_uri": "https://localhost:8080/",
          "height": 333
        },
        "id": "hwhoKXLv5INN",
        "outputId": "88b07b47-4ef4-46ec-d6c7-1104aeb05388"
      },
      "outputs": [
        {
          "data": {
            "text/plain": [
              "<AxesSubplot:title={'center':'Lift Curve'}, xlabel='Percentage of sample', ylabel='Lift'>"
            ]
          },
          "execution_count": 266,
          "metadata": {},
          "output_type": "execute_result"
        },
        {
          "data": {
            "image/png": "[encoded data removed]",
            "text/plain": [
              "<Figure size 432x288 with 1 Axes>"
            ]
          },
          "metadata": {
            "needs_background": "light"
          },
          "output_type": "display_data"
        }
      ],
      "source": [
        "plot_lift_curve(test_target, prob_prediction)"
      ]
    },
    {
      "cell_type": "code",
      "execution_count": 267,
      "metadata": {
        "colab": {
          "base_uri": "https://localhost:8080/",
          "height": 333
        },
        "id": "4Kt8uOeI5Rlg",
        "outputId": "6c29d7ad-83e0-41dc-94d2-f6b7ebf1bad5"
      },
      "outputs": [
        {
          "data": {
            "text/plain": [
              "<AxesSubplot:title={'center':'KS Statistic Plot'}, xlabel='Threshold', ylabel='Percentage below threshold'>"
            ]
          },
          "execution_count": 267,
          "metadata": {},
          "output_type": "execute_result"
        },
        {
          "data": {
            "image/png": "[encoded data removed]",
            "text/plain": [
              "<Figure size 432x288 with 1 Axes>"
            ]
          },
          "metadata": {
            "needs_background": "light"
          },
          "output_type": "display_data"
        }
      ],
      "source": [
        "plot_ks_statistic(test_target, prob_prediction)"
      ]
    },
    {
      "cell_type": "code",
      "execution_count": 268,
      "metadata": {
        "colab": {
          "base_uri": "https://localhost:8080/",
          "height": 299
        },
        "id": "oEviqveg27Wx",
        "outputId": "c3ba919c-8646-46fb-b72a-7c0b6af8b19b"
      },
      "outputs": [
        {
          "data": {
            "image/png": "[encoded data removed]",
            "text/plain": [
              "<Figure size 432x288 with 1 Axes>"
            ]
          },
          "metadata": {
            "needs_background": "light"
          },
          "output_type": "display_data"
        },
        {
          "data": {
            "text/plain": [
              "<Figure size 432x288 with 0 Axes>"
            ]
          },
          "metadata": {},
          "output_type": "display_data"
        }
      ],
      "source": [
        "x = [\"Precision\", \"Recall\", \"F1 Score\", \"Accuracy\"]\n",
        "y = [m_ps, m_rs, m_f1bs, m_acc]\n",
        "c = [\"red\", \"purple\", \"green\", \"orange\"]\n",
        "make_plot(x, y, f\"Metrics for {evaluated_model}\", c)"
      ]
    },
    {
      "cell_type": "markdown",
      "metadata": {
        "id": "LWlUatn5DlkG"
      },
      "source": [
        "# Porównanie modeli"
      ]
    },
    {
      "cell_type": "code",
      "execution_count": 269,
      "metadata": {
        "colab": {
          "base_uri": "https://localhost:8080/",
          "height": 283
        },
        "id": "V_8oGnBTDpKS",
        "outputId": "c5f93441-fe50-4c82-99d6-e4913e2c83af"
      },
      "outputs": [
        {
          "data": {
            "image/png": "[encoded data removed]",
            "text/plain": [
              "<Figure size 432x288 with 1 Axes>"
            ]
          },
          "metadata": {
            "needs_background": "light"
          },
          "output_type": "display_data"
        }
      ],
      "source": [
        "title = \"ROC curve for compared models\"\n",
        "for name in MODEL_NAMES:\n",
        "  with open(MODEL_PATH + name, 'rb') as f:\n",
        "      classifier = pickle.load(f)\n",
        "  prediction = classifier.predict(test_features)\n",
        "  fpr, tpr, _ = roc_curve(test_target, prediction)\n",
        "  auc = round(roc_auc_score(test_target, prediction), 4)\n",
        "  plt.plot(fpr,tpr,label=f\"{name}, AUC={auc}\")\n",
        "plt.legend()\n",
        "plt.title(title)\n",
        "plt.savefig(PLOT_PATH + title)"
      ]
    }
  ],
  "metadata": {
    "colab": {
      "collapsed_sections": [],
      "name": "Metrics.ipynb",
      "provenance": []
    },
    "interpreter": {
      "hash": "7018c46de3180093370f3f2bf528b47925a5bbc314e94fdd717414946b32dd96"
    },
    "kernelspec": {
      "display_name": "Python 3.8.8 64-bit",
      "language": "python",
      "name": "python3"
    },
    "language_info": {
      "codemirror_mode": {
        "name": "ipython",
        "version": 3
      },
      "file_extension": ".py",
      "mimetype": "text/x-python",
      "name": "python",
      "nbconvert_exporter": "python",
      "pygments_lexer": "ipython3",
      "version": "3.8.8"
    }
  },
  "nbformat": 4,
  "nbformat_minor": 0
}
